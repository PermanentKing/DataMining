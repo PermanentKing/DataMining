{
 "cells": [
  {
   "cell_type": "code",
   "execution_count": 25,
   "metadata": {},
   "outputs": [
    {
     "name": "stdout",
     "output_type": "stream",
     "text": [
      "dataset= [[101.0, 1.7, 641.48], [120.0, 2.3, 722.3], [115.0, 4.0, 569.43], [123.0, 2.8, 706.34], [98.0, 1.2, 657.44], [111.0, 0.3, 806.38], [85.0, 0.92, 589.95], [76.0, 3.32, 351.39], [78.0, 4.8, 261.71], [92.0, 2.7, 504.31], [84.0, 6.11, 207.35], [123.0, 8.2, 315.28], [142.0, 12.4, 143.38], [97.0, 7.4, 197.69], [75.0, 5.55, 187.1], [89.0, 6.3, 223.34], [159.0, 9.4, 475.41], [100.0, 2.5, 572.33], [102.0, 6.4, 307.86], [111.0, 5.32, 442.84], [134.0, 8.4, 379.0], [76.0, 2.78, 390.5], [88.0, 3.44, 427.71], [89.0, 3.42, 433.91], [68.0, 2.69, 347.0], [65.0, 0.8, 459.21], [132.0, 8.8, 336.58], [144.0, 12.4, 152.88], [116.0, 6.7, 380.4], [108.0, 3.86, 528.32], [62.0, 4.2, 197.15], [99.0, 7.3, 218.72], [118.0, 5.4, 488.31], [61.0, 3.33, 249.4], [150.0, 7.5, 552.1], [132.0, 6.42, 504.95], [122.0, 9.38, 227.08], [75.0, 4.53, 257.01], [71.0, 3.77, 289.04], [86.0, 6.72, 172.67], [77.0, 4.63, 267.27], [93.0, 4.55, 377.08], [91.0, 3.7, 429.14], [68.0, 4.32, 224.96], [108.0, 8.51, 195.56], [112.0, 10.4, 81.69], [121.0, 3.54, 643.25], [107.0, 2.78, 599.77], [143.0, 1.64, 929.37], [61.0, 0.8, 432.63]]\n"
     ]
    }
   ],
   "source": [
    "import numpy\n",
    "import matplotlib\n",
    "import os\n",
    "\n",
    "def loadDatadet(infile,k):\n",
    "    f=open(infile,'r')\n",
    "    sourceInLine=f.readlines()\n",
    "    dataset=[]\n",
    "    for line in sourceInLine:\n",
    "        temp1=line.strip('\\n')\n",
    "        temp2=temp1.split(' ')\n",
    "        dataset.append(temp2)\n",
    "    for i in range(0,len(dataset)):\n",
    "        for j in range(k):\n",
    "            dataset[i].append(float(dataset[i][j]))\n",
    "        del(dataset[i][0:k])\n",
    "    return dataset\n",
    "infile='dataForTraining.txt'\n",
    "k=6\n",
    "infile=loadDatadet(infile,k)\n",
    "print('dataset=',infile)\n"
   ]
  },
  {
   "cell_type": "code",
   "execution_count": 26,
   "metadata": {},
   "outputs": [
    {
     "name": "stdout",
     "output_type": "stream",
     "text": [
      "2.3\n"
     ]
    }
   ],
   "source": [
    "print(infile[1][1])\n"
   ]
  },
  {
   "cell_type": "code",
   "execution_count": 28,
   "metadata": {},
   "outputs": [
    {
     "data": {
      "text/plain": [
       "float"
      ]
     },
     "execution_count": 28,
     "metadata": {},
     "output_type": "execute_result"
    }
   ],
   "source": [
    "type(infile[1][2])"
   ]
  },
  {
   "cell_type": "code",
   "execution_count": 49,
   "metadata": {},
   "outputs": [
    {
     "name": "stdout",
     "output_type": "stream",
     "text": [
      "[641.48, 722.3, 569.43, 706.34, 657.44, 806.38, 589.95, 351.39, 261.71, 504.31, 207.35, 315.28, 143.38, 197.69, 187.1, 223.34, 475.41, 572.33, 307.86, 442.84, 379.0, 390.5, 427.71, 433.91, 347.0, 459.21, 336.58, 152.88, 380.4, 528.32, 197.15, 218.72, 488.31, 249.4, 552.1, 504.95, 227.08, 257.01, 289.04, 172.67, 267.27, 377.08, 429.14, 224.96, 195.56, 81.69, 643.25, 599.77, 929.37, 432.63]\n"
     ]
    }
   ],
   "source": [
    "output_y = []\n",
    "for i in range(50):\n",
    "    output_y.append(infile[i][2])\n",
    "\n",
    "print(output_y)"
   ]
  },
  {
   "cell_type": "code",
   "execution_count": null,
   "metadata": {},
   "outputs": [],
   "source": []
  }
 ],
 "metadata": {
  "kernelspec": {
   "display_name": "Python 3",
   "language": "python",
   "name": "python3"
  },
  "language_info": {
   "codemirror_mode": {
    "name": "ipython",
    "version": 3
   },
   "file_extension": ".py",
   "mimetype": "text/x-python",
   "name": "python",
   "nbconvert_exporter": "python",
   "pygments_lexer": "ipython3",
   "version": "3.6.5"
  }
 },
 "nbformat": 4,
 "nbformat_minor": 2
}
